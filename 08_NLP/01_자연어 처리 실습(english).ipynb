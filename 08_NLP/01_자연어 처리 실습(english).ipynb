{
 "cells": [
  {
   "cell_type": "markdown",
   "metadata": {},
   "source": [
    "# 01_자연어 처리 실습(English)\n",
    "> shakepeares sonnet을 활용해 자연어 처리 실습을 해본다. "
   ]
  },
  {
   "cell_type": "markdown",
   "metadata": {},
   "source": [
    "## 1) text 파일 불러오기"
   ]
  },
  {
   "cell_type": "code",
   "execution_count": 1,
   "metadata": {},
   "outputs": [],
   "source": [
    "from nltk.tokenize import sent_tokenize\n",
    "from nltk.tokenize import word_tokenize\n",
    "from nltk.corpus import stopwords"
   ]
  },
  {
   "cell_type": "code",
   "execution_count": 14,
   "metadata": {},
   "outputs": [
    {
     "data": {
      "text/plain": [
       "'It’s better to be vile than to have people think you’re vile, especially when they accuse you of being vile and you’re really not, and then you don’t even get to enjoy doing the thing that people say is vile but that you don’t think is. For why should people who are corrupt themselves get to wink knowingly at my lustful inclinations? And why should people who are even weaker than I pry into my weaknesses, deciding that what I think is good is bad? No, I am what I am, and the people who accuse me are only revealing their own corruptions. Maybe I’m straight, and they’re the ones who are crooked; you can’t measure my actions by their foul thoughts, unless they’re willing to believe that all men are bad and thrive in their badness.'"
      ]
     },
     "execution_count": 14,
     "metadata": {},
     "output_type": "execute_result"
    }
   ],
   "source": [
    "text = open(\"example_text.txt\", \"r\", encoding='utf-8').read() # unicode error 주의\n",
    "text"
   ]
  },
  {
   "cell_type": "markdown",
   "metadata": {},
   "source": [
    "## 2) 문장 토큰화"
   ]
  },
  {
   "cell_type": "code",
   "execution_count": 15,
   "metadata": {},
   "outputs": [
    {
     "name": "stdout",
     "output_type": "stream",
     "text": [
      "['It’s better to be vile than to have people think you’re vile, especially when they accuse you of being vile and you’re really not, and then you don’t even get to enjoy doing the thing that people say is vile but that you don’t think is.', 'For why should people who are corrupt themselves get to wink knowingly at my lustful inclinations?', 'And why should people who are even weaker than I pry into my weaknesses, deciding that what I think is good is bad?', 'No, I am what I am, and the people who accuse me are only revealing their own corruptions.', 'Maybe I’m straight, and they’re the ones who are crooked; you can’t measure my actions by their foul thoughts, unless they’re willing to believe that all men are bad and thrive in their badness.']\n"
     ]
    }
   ],
   "source": [
    "text = sent_tokenize(text)\n",
    "print(text)"
   ]
  },
  {
   "cell_type": "markdown",
   "metadata": {},
   "source": [
    "## 3) 단어 토큰화"
   ]
  },
  {
   "cell_type": "code",
   "execution_count": 18,
   "metadata": {},
   "outputs": [
    {
     "name": "stdout",
     "output_type": "stream",
     "text": [
      "[['better', 'vile', 'people', 'think', 'vile', 'especially', 'accuse', 'vile', 'really', 'even', 'get', 'enjoy', 'thing', 'people', 'say', 'vile', 'think'], ['people', 'corrupt', 'get', 'wink', 'knowingly', 'lustful', 'inclinations'], ['people', 'even', 'weaker', 'pry', 'weaknesses', 'deciding', 'think', 'good', 'bad'], ['people', 'accuse', 'revealing', 'corruptions'], ['maybe', 'straight', 'ones', 'crooked', 'measure', 'actions', 'foul', 'thoughts', 'unless', 'willing', 'believe', 'men', 'bad', 'thrive', 'badness']]\n"
     ]
    }
   ],
   "source": [
    "vocab = {}\n",
    "sentences = []\n",
    "stop_words = set(stopwords.words('english'))\n",
    "\n",
    "for i in text:\n",
    "    sentence = word_tokenize(i)\n",
    "    result = []\n",
    "    \n",
    "    for word in sentence : \n",
    "        word = word.lower()\n",
    "\n",
    "        if word not in stop_words:\n",
    "            \n",
    "            if len(word) > 2:\n",
    "                result.append(word)\n",
    "                \n",
    "                if word not in vocab:\n",
    "                    vocab[word] = 0\n",
    "                vocab[word] += 1\n",
    "    \n",
    "    sentences.append(result)\n",
    "\n",
    "print(sentences)"
   ]
  },
  {
   "cell_type": "code",
   "execution_count": 19,
   "metadata": {},
   "outputs": [
    {
     "data": {
      "text/plain": [
       "{'better': 1,\n",
       " 'vile': 4,\n",
       " 'people': 5,\n",
       " 'think': 3,\n",
       " 'especially': 1,\n",
       " 'accuse': 2,\n",
       " 'really': 1,\n",
       " 'even': 2,\n",
       " 'get': 2,\n",
       " 'enjoy': 1,\n",
       " 'thing': 1,\n",
       " 'say': 1,\n",
       " 'corrupt': 1,\n",
       " 'wink': 1,\n",
       " 'knowingly': 1,\n",
       " 'lustful': 1,\n",
       " 'inclinations': 1,\n",
       " 'weaker': 1,\n",
       " 'pry': 1,\n",
       " 'weaknesses': 1,\n",
       " 'deciding': 1,\n",
       " 'good': 1,\n",
       " 'bad': 2,\n",
       " 'revealing': 1,\n",
       " 'corruptions': 1,\n",
       " 'maybe': 1,\n",
       " 'straight': 1,\n",
       " 'ones': 1,\n",
       " 'crooked': 1,\n",
       " 'measure': 1,\n",
       " 'actions': 1,\n",
       " 'foul': 1,\n",
       " 'thoughts': 1,\n",
       " 'unless': 1,\n",
       " 'willing': 1,\n",
       " 'believe': 1,\n",
       " 'men': 1,\n",
       " 'thrive': 1,\n",
       " 'badness': 1}"
      ]
     },
     "execution_count": 19,
     "metadata": {},
     "output_type": "execute_result"
    }
   ],
   "source": [
    "vocab"
   ]
  },
  {
   "cell_type": "code",
   "execution_count": 20,
   "metadata": {},
   "outputs": [],
   "source": [
    "from collections import Counter"
   ]
  },
  {
   "cell_type": "code",
   "execution_count": 21,
   "metadata": {},
   "outputs": [
    {
     "name": "stdout",
     "output_type": "stream",
     "text": [
      "['better', 'vile', 'people', 'think', 'vile', 'especially', 'accuse', 'vile', 'really', 'even', 'get', 'enjoy', 'thing', 'people', 'say', 'vile', 'think', 'people', 'corrupt', 'get', 'wink', 'knowingly', 'lustful', 'inclinations', 'people', 'even', 'weaker', 'pry', 'weaknesses', 'deciding', 'think', 'good', 'bad', 'people', 'accuse', 'revealing', 'corruptions', 'maybe', 'straight', 'ones', 'crooked', 'measure', 'actions', 'foul', 'thoughts', 'unless', 'willing', 'believe', 'men', 'bad', 'thrive', 'badness']\n"
     ]
    }
   ],
   "source": [
    "words = sum(sentences, [])\n",
    "print(words)"
   ]
  },
  {
   "cell_type": "code",
   "execution_count": 22,
   "metadata": {},
   "outputs": [
    {
     "name": "stdout",
     "output_type": "stream",
     "text": [
      "Counter({'people': 5, 'vile': 4, 'think': 3, 'accuse': 2, 'even': 2, 'get': 2, 'bad': 2, 'better': 1, 'especially': 1, 'really': 1, 'enjoy': 1, 'thing': 1, 'say': 1, 'corrupt': 1, 'wink': 1, 'knowingly': 1, 'lustful': 1, 'inclinations': 1, 'weaker': 1, 'pry': 1, 'weaknesses': 1, 'deciding': 1, 'good': 1, 'revealing': 1, 'corruptions': 1, 'maybe': 1, 'straight': 1, 'ones': 1, 'crooked': 1, 'measure': 1, 'actions': 1, 'foul': 1, 'thoughts': 1, 'unless': 1, 'willing': 1, 'believe': 1, 'men': 1, 'thrive': 1, 'badness': 1})\n"
     ]
    }
   ],
   "source": [
    "vocab = Counter(words)\n",
    "print(vocab)"
   ]
  },
  {
   "cell_type": "markdown",
   "metadata": {},
   "source": [
    "## 4) 품사 체크"
   ]
  },
  {
   "cell_type": "code",
   "execution_count": 30,
   "metadata": {},
   "outputs": [],
   "source": [
    "from nltk.stem import WordNetLemmatizer"
   ]
  },
  {
   "cell_type": "code",
   "execution_count": 29,
   "metadata": {
    "scrolled": true
   },
   "outputs": [
    {
     "data": {
      "text/plain": [
       "['better',\n",
       " 'vile',\n",
       " 'people',\n",
       " 'think',\n",
       " 'especially',\n",
       " 'accuse',\n",
       " 'really',\n",
       " 'even',\n",
       " 'get',\n",
       " 'enjoy',\n",
       " 'thing',\n",
       " 'say',\n",
       " 'corrupt',\n",
       " 'wink',\n",
       " 'knowingly',\n",
       " 'lustful',\n",
       " 'inclinations',\n",
       " 'weaker',\n",
       " 'pry',\n",
       " 'weaknesses',\n",
       " 'deciding',\n",
       " 'good',\n",
       " 'bad',\n",
       " 'revealing',\n",
       " 'corruptions',\n",
       " 'maybe',\n",
       " 'straight',\n",
       " 'ones',\n",
       " 'crooked',\n",
       " 'measure',\n",
       " 'actions',\n",
       " 'foul',\n",
       " 'thoughts',\n",
       " 'unless',\n",
       " 'willing',\n",
       " 'believe',\n",
       " 'men',\n",
       " 'thrive',\n",
       " 'badness']"
      ]
     },
     "execution_count": 29,
     "metadata": {},
     "output_type": "execute_result"
    }
   ],
   "source": [
    "word_class = list(vocab.keys())\n",
    "word_class"
   ]
  }
 ],
 "metadata": {
  "kernelspec": {
   "display_name": "Python 3",
   "language": "python",
   "name": "python3"
  },
  "language_info": {
   "codemirror_mode": {
    "name": "ipython",
    "version": 3
   },
   "file_extension": ".py",
   "mimetype": "text/x-python",
   "name": "python",
   "nbconvert_exporter": "python",
   "pygments_lexer": "ipython3",
   "version": "3.7.3"
  }
 },
 "nbformat": 4,
 "nbformat_minor": 2
}
