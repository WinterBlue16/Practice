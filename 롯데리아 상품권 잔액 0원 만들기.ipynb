{
 "cells": [
  {
   "cell_type": "markdown",
   "metadata": {},
   "source": [
    "# 롯데리아 상품권 잔액 0 만들기\n",
    "> 이하 내용은 100% 사실에 기반하고 있습니다.\n",
    "\n",
    "L사 면접에서 면접비 대신 30,000원짜리 상품권을 받았다. 해당 상품권은 L사의 브랜드 식당, 패스트푸드점, 도넛 가게, 카페 등에서만 사용이 가능했다. 그러던 도중 코로나로 인한 거리두기가 완화되어 스터디 카페에 나가 공부하게 됐다. 돈을 아끼기 위해 상품권으로 패스트푸드점에서 점심을 해결하기로 했다. 몇 끼를 어떤 메뉴의 조합으로 때울 수 있을지 고민이 된다. 이왕이면 괜찮은 메뉴, 좋아하는 메뉴가 들어간 조합이었으면 좋겠고, 더해서 상품권의 잔액이 깔끔하게 1원도 남지 않았으면 좋겠다. <br>\n",
    "\n",
    "아래는 그런 문제를 해결하기 위한 진행과정+코드이다."
   ]
  },
  {
   "cell_type": "markdown",
   "metadata": {},
   "source": [
    "## 롯데리아 버거 메뉴+가격 크롤링\n",
    "우선은 롯데리아에 있는 모든 버거 메뉴와 그 가격을 알아야 한다. BeautifulSoup을 이용한 웹 크롤링으로 버거 이름과 가격을 긁어온다."
   ]
  },
  {
   "cell_type": "code",
   "execution_count": 1,
   "metadata": {},
   "outputs": [],
   "source": [
    "# 가격 크롤링 코드\n",
    "# 크롤링할 주소 1 : http://www.lotteria.com/menu/MenuList.asp?C2=4(햄버거)\n",
    "# 크롤링할 주소 2 : http://www.lotteria.com/menu/MenuList.asp?C2=6(사이드메뉴)\n",
    "# 태그 class : cont menu roundMiddle > strong 안의 text\n",
    "# 브랜드 사이트와 내가 갖고 있는 돈 입력하면 최적의 조합 알려주기(아이디어)\n",
    "\n",
    "import requests\n",
    "from bs4 import BeautifulSoup \n",
    "import time\n",
    "import re\n",
    "\n",
    "url='http://www.lotteria.com/menu/MenuList.asp?C2=4'\n",
    "name_li=[]\n",
    "price_li=[]\n",
    "\n",
    "web=requests.get(url).content\n",
    "source=BeautifulSoup(web, 'html.parser')\n",
    "        \n",
    "for name in source.select('.roundMiddle > a'):\n",
    "    name_li.append(name.get_text())\n",
    "    \n",
    "for price in source.select('.roundMiddle > strong'):\n",
    "    price_li.append(price.get_text())\n",
    "        \n",
    "# print('버거 이름 리스트 :', name_li)\n",
    "# print('가격 리스트 :', price_li)\n",
    "\n",
    "# menu_dict=dict(zip(name_li, price_li))\n",
    "# print(menu_dict)"
   ]
  },
  {
   "cell_type": "markdown",
   "metadata": {},
   "source": [
    "## 버거 메뉴와 가격 dict로 만들고 정렬하기"
   ]
  },
  {
   "cell_type": "code",
   "execution_count": 2,
   "metadata": {},
   "outputs": [
    {
     "name": "stdout",
     "output_type": "stream",
     "text": [
      "{'와규 에디션Ⅱ': 6000, '더블X2': 5700, '모짜렐라 인 더 버거 - 베이컨': 6200, 'AZ버거': 6800, '원조 빅불': 5900, '핫크리스피버거': 4900, '한우불고기': 7200, '불고기버거': 3900, '폴더버거 핫치킨': 5800, '폴더버거 비프': 5800, '리아미라클버거': 5700, '사각새우더블버거': 4500, '새우버거': 3900, '치킨버거': 3100, 'T-Rex': 3800, '클래식 치즈버거': 4500, '데리버거': 2700}\n"
     ]
    }
   ],
   "source": [
    "price_li2=[]\n",
    "\n",
    "for price in price_li:\n",
    "    price_li2.append(int(price.strip('원').replace(',', '')))\n",
    "    \n",
    "menu_dict=dict(zip(name_li, price_li2))\n",
    "print(menu_dict)"
   ]
  },
  {
   "cell_type": "code",
   "execution_count": 3,
   "metadata": {},
   "outputs": [
    {
     "name": "stdout",
     "output_type": "stream",
     "text": [
      "[('한우불고기', 7200), ('AZ버거', 6800), ('모짜렐라 인 더 버거 - 베이컨', 6200), ('와규 에디션Ⅱ', 6000), ('원조 빅불', 5900), ('폴더버거 핫치킨', 5800), ('폴더버거 비프', 5800), ('더블X2', 5700), ('리아미라클버거', 5700), ('핫크리스피버거', 4900), ('사각새우더블버거', 4500), ('클래식 치즈버거', 4500), ('불고기버거', 3900), ('새우버거', 3900), ('T-Rex', 3800), ('치킨버거', 3100), ('데리버거', 2700)]\n"
     ]
    }
   ],
   "source": [
    "menu_dict=sorted(menu_dict.items(), key=lambda x:x[1], reverse=True)\n",
    "print(menu_dict) # 자료형이 dict-> list로 자동 변환됨"
   ]
  },
  {
   "cell_type": "code",
   "execution_count": 4,
   "metadata": {},
   "outputs": [
    {
     "name": "stdout",
     "output_type": "stream",
     "text": [
      "{7200: '한우불고기', 6800: 'AZ버거', 6200: '모짜렐라 인 더 버거 - 베이컨', 6000: '와규 에디션Ⅱ', 5900: '원조 빅불', 5800: '폴더버거 비프', 5700: '리아미라클버거', 4900: '핫크리스피버거', 4500: '클래식 치즈버거', 3900: '새우버거', 3800: 'T-Rex', 3100: '치킨버거', 2700: '데리버거'}\n"
     ]
    }
   ],
   "source": [
    "menu_dict=dict(map(reversed,menu_dict))\n",
    "print(menu_dict)"
   ]
  },
  {
   "cell_type": "markdown",
   "metadata": {},
   "source": [
    "## 버거 가격들만 리스트로 만들기"
   ]
  },
  {
   "cell_type": "code",
   "execution_count": 14,
   "metadata": {},
   "outputs": [
    {
     "name": "stdout",
     "output_type": "stream",
     "text": [
      "[7200, 6800, 6200, 6000, 5900, 5800, 5700, 4900, 4500, 3900, 3800, 3100, 2700]\n"
     ]
    }
   ],
   "source": [
    "burger_li=list(menu_dict.keys())\n",
    "print(burger_li)"
   ]
  },
  {
   "cell_type": "markdown",
   "metadata": {},
   "source": [
    "## itertools의 combinations_with_replacement 활용해 결과값 찾기 \n",
    "버거 주문은 중복이 가능하므로 중복을 허용하는 경우의 수를 뽑아내는 combinations_with_replacement를 사용한다. "
   ]
  },
  {
   "cell_type": "code",
   "execution_count": 31,
   "metadata": {},
   "outputs": [],
   "source": [
    "from itertools import combinations_with_replacement\n",
    "\n",
    "result=[]\n",
    "\n",
    "com_li=list(combinations_with_replacement(burger_li, 4))\n",
    "\n",
    "for com in com_li:\n",
    "    if sum(com)==17600:\n",
    "        t=tuple(menu_dict.get(com[i]) for i in range(4)) # 각 숫자를 key로 버거 이름 value를 추출해 tuple에 담는다\n",
    "        result.append(t)"
   ]
  },
  {
   "cell_type": "code",
   "execution_count": 32,
   "metadata": {},
   "outputs": [
    {
     "data": {
      "text/plain": [
       "[('한우불고기', '새우버거', 'T-Rex', '데리버거'),\n",
       " ('AZ버거', '새우버거', 'T-Rex', '치킨버거'),\n",
       " ('모짜렐라 인 더 버거 - 베이컨', '와규 에디션Ⅱ', '데리버거', '데리버거'),\n",
       " ('모짜렐라 인 더 버거 - 베이컨', '핫크리스피버거', 'T-Rex', '데리버거'),\n",
       " ('모짜렐라 인 더 버거 - 베이컨', '클래식 치즈버거', 'T-Rex', '치킨버거'),\n",
       " ('모짜렐라 인 더 버거 - 베이컨', 'T-Rex', 'T-Rex', 'T-Rex'),\n",
       " ('와규 에디션Ⅱ', '폴더버거 비프', '치킨버거', '데리버거'),\n",
       " ('와규 에디션Ⅱ', '새우버거', '새우버거', 'T-Rex'),\n",
       " ('원조 빅불', '원조 빅불', '치킨버거', '데리버거'),\n",
       " ('원조 빅불', '클래식 치즈버거', '클래식 치즈버거', '데리버거'),\n",
       " ('원조 빅불', '새우버거', '새우버거', '새우버거'),\n",
       " ('폴더버거 비프', '핫크리스피버거', 'T-Rex', '치킨버거'),\n",
       " ('리아미라클버거', '리아미라클버거', '치킨버거', '치킨버거'),\n",
       " ('리아미라클버거', '핫크리스피버거', '새우버거', '치킨버거'),\n",
       " ('핫크리스피버거', '핫크리스피버거', '새우버거', '새우버거')]"
      ]
     },
     "execution_count": 32,
     "metadata": {},
     "output_type": "execute_result"
    }
   ],
   "source": [
    "result"
   ]
  },
  {
   "cell_type": "markdown",
   "metadata": {},
   "source": [
    "## 함수로 만들기"
   ]
  },
  {
   "cell_type": "markdown",
   "metadata": {},
   "source": [
    "## 1. 모든 경우의 수 추출"
   ]
  },
  {
   "cell_type": "code",
   "execution_count": 8,
   "metadata": {
    "scrolled": true
   },
   "outputs": [
    {
     "name": "stdout",
     "output_type": "stream",
     "text": [
      "상품권 잔액을 입력하세요 :7600\n",
      "희망하는 점심 채움 횟수를 입력하세요 :2\n",
      "('핫크리스피버거', '데리버거')\n",
      "('클래식 치즈버거', '치킨버거')\n",
      "('T-Rex', 'T-Rex')\n"
     ]
    }
   ],
   "source": [
    "import requests\n",
    "from bs4 import BeautifulSoup \n",
    "import time\n",
    "from itertools import combinations_with_replacement\n",
    "\n",
    "def saveMyMoney(money, days):\n",
    "    result=[]\n",
    "\n",
    "    com_li=list(combinations_with_replacement(burger_li, days))\n",
    "    for com in com_li:\n",
    "        if sum(com)==money:\n",
    "            t=tuple(menu_dict.get(com[i]) for i in range(days)) # 각 숫자를 key로 버거 이름 value를 추출해 tuple에 담는다\n",
    "            result.append(t)\n",
    "   \n",
    "    return result\n",
    "    \n",
    "if __name__ == '__main__':\n",
    "    m=int(input('상품권 잔액을 입력하세요 :'))\n",
    "    d=int(input('희망하는 점심 채움 횟수를 입력하세요 :'))\n",
    "\n",
    "    url='http://www.lotteria.com/menu/MenuList.asp?C2=4'\n",
    "    name_li=[]\n",
    "    price_li=[]\n",
    "\n",
    "    web=requests.get(url).content\n",
    "    source=BeautifulSoup(web, 'html.parser')\n",
    "\n",
    "    for name in source.select('.roundMiddle > a'):\n",
    "        name_li.append(name.get_text())\n",
    "\n",
    "    for price in source.select('.roundMiddle > strong'):\n",
    "        price_li.append(price.get_text())\n",
    "    \n",
    "    price_li2=[]\n",
    "\n",
    "    for price in price_li:\n",
    "        price_li2.append(int(price.strip('원').replace(',', '')))\n",
    "\n",
    "    menu_dict=dict(zip(name_li, price_li2))\n",
    "    menu_dict=sorted(menu_dict.items(), key=lambda x:x[1], reverse=True)\n",
    "    menu_dict=dict(map(reversed,menu_dict))\n",
    "    burger_li=list(menu_dict.keys())\n",
    "    \n",
    "    \n",
    "    answer=saveMyMoney(m, d)\n",
    "    for a in answer:\n",
    "        print(a)"
   ]
  },
  {
   "cell_type": "markdown",
   "metadata": {},
   "source": [
    "## 2. 좋아하는 메뉴를 포함한 모든 경우의 수 추출"
   ]
  },
  {
   "cell_type": "code",
   "execution_count": null,
   "metadata": {},
   "outputs": [],
   "source": [
    "import requests\n",
    "from bs4 import BeautifulSoup \n",
    "import time\n",
    "from itertools import combinations_with_replacement\n",
    "\n",
    "def saveMyMoney(money, days, favorite):\n",
    "    result=[]\n",
    "\n",
    "    com_li=list(combinations_with_replacement(burger_li, days))\n",
    "    for com in com_li:\n",
    "        if sum(com)==money:\n",
    "            t=tuple(menu_dict.get(com[i]) for i in range(days)) # 각 숫자를 key로 버거 이름 value를 추출해 tuple에 담는다\n",
    "            result.append(t)\n",
    "   \n",
    "    return result\n",
    "    \n",
    "if __name__ == '__main__':\n",
    "    m=int(input('상품권 잔액을 입력하세요 :'))\n",
    "    d=int(input('희망하는 점심 채움 횟수를 입력하세요 :'))\n",
    "    f=input('꼭 포함되기를 바라는 메뉴를 입력하세요 :')\n",
    "\n",
    "    url='http://www.lotteria.com/menu/MenuList.asp?C2=4'\n",
    "    name_li=[]\n",
    "    price_li=[]\n",
    "\n",
    "    web=requests.get(url).content\n",
    "    source=BeautifulSoup(web, 'html.parser')\n",
    "\n",
    "    for name in source.select('.roundMiddle > a'):\n",
    "        name_li.append(name.get_text())\n",
    "\n",
    "    for price in source.select('.roundMiddle > strong'):\n",
    "        price_li.append(price.get_text())\n",
    "    \n",
    "    price_li2=[]\n",
    "\n",
    "    for price in price_li:\n",
    "        price_li2.append(int(price.strip('원').replace(',', '')))\n",
    "\n",
    "    menu_dict=dict(zip(name_li, price_li2))\n",
    "    menu_dict=sorted(menu_dict.items(), key=lambda x:x[1], reverse=True)\n",
    "    menu_dict=dict(map(reversed,menu_dict))\n",
    "    burger_li=list(menu_dict.keys())\n",
    "    \n",
    "    \n",
    "    answer=saveMyMoney(m, d, f)\n",
    "    for a in answer:\n",
    "        if f in a:\n",
    "            print(a)"
   ]
  },
  {
   "cell_type": "markdown",
   "metadata": {},
   "source": [
    "## 결과\n",
    "> 잔액 0 만들기 성공!\n",
    "\n",
    "\n",
    "![KakaoTalk_20210223_113315144](https://user-images.githubusercontent.com/58945760/108796314-cf337900-75cb-11eb-970b-eeed1ceb0b8f.jpg)"
   ]
  },
  {
   "cell_type": "code",
   "execution_count": null,
   "metadata": {},
   "outputs": [],
   "source": [
    "# # 알고리즘 고민 중\n",
    "# import random\n",
    "\n",
    "# length=len(int_li)\n",
    "# total_price=17600\n",
    "# result=[]\n",
    "\n",
    "# for price in int_li:\n",
    "#     max_price=[price]\n",
    "#     print(max_price)\n",
    "#     for i in range(length):\n",
    "#         price_case=max_price+[int_li[i]]\n",
    "#         print(price_case)\n",
    "#         if sum(price_case)==total_price:\n",
    "#             result.append(price_case)\n",
    "            \n",
    "# print(result)"
   ]
  }
 ],
 "metadata": {
  "kernelspec": {
   "display_name": "Python 3",
   "language": "python",
   "name": "python3"
  },
  "language_info": {
   "codemirror_mode": {
    "name": "ipython",
    "version": 3
   },
   "file_extension": ".py",
   "mimetype": "text/x-python",
   "name": "python",
   "nbconvert_exporter": "python",
   "pygments_lexer": "ipython3",
   "version": "3.7.3"
  }
 },
 "nbformat": 4,
 "nbformat_minor": 2
}
