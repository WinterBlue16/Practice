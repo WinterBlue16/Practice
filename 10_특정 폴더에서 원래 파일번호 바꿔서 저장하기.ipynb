{
 "cells": [
  {
   "cell_type": "markdown",
   "metadata": {},
   "source": [
    "# 특정 폴더 내 파일 번호 새로 정리하기\n",
    "> 한 폴더 안에 너무 파일이 많아져 주제별로 분리를 하고 싶을 때가 있다. \n",
    "그 때 정리된 폴더 안의 파일번호가 뒤죽박죽이 되곤 한다. 그 때 파일 수에 맞추어 번호를 새로 매기고 싶을 때 사용하는 코드이다."
   ]
  },
  {
   "cell_type": "code",
   "execution_count": 29,
   "metadata": {
    "scrolled": true
   },
   "outputs": [
    {
     "name": "stdout",
     "output_type": "stream",
     "text": [
      "04_list에서 랜덤으로 값 뽑기.py\n",
      "05_list에서 특정 문자열만 추출하기.py\n",
      "06_list item의 index 알아내기.py\n",
      "07_list, 문자열 공백 없애기.py\n",
      "08_list 중복 제거하기.py\n",
      "12_다수의 리스트에서 랜덤으로 리스트 추출하기.py\n",
      "15_Key 값으로 value값 꺼내기.py\n",
      "26_list로 쪼개진 str 붙여 꺼내기.py\n",
      "28_series 자료형 list로 변환하기.py\n",
      "29_이중 리스트 해제하고 카운트하기.py\n",
      "30_리스트 카운트하고 가장 빈도수 많은 값 찾기.py\n",
      "38_list 안에서 순서 유지하며 item 치환하기.py\n",
      "47_list 안의 이스케이프 문자 일괄 소거하기.py\n",
      "50_zip을 활용해 list를 dict로 만들기.ipynb\n",
      "65_str리스트를 int리스트로 변환하기.ipynb\n",
      "67_줄마다 입력 받아 리스트로 저장하기.py\n",
      "68_한 방에 알파벳 리스트 만들기.py\n",
      "70_리스트 두 개로 dict 만들기.py\n",
      "71_주어진 리스트의 순열과 조합 구하기.py\n",
      "72_dict 오름차순, 내림차순 정렬하기.py\n",
      "73_tuple을 dict 자료형으로 변환하기.py\n"
     ]
    }
   ],
   "source": [
    "import os \n",
    "import sys\n",
    "\n",
    "\n",
    "def rename_file():\n",
    "    path=\"이름을 바꾸고 싶은 파일들이 들어있는 경로\"\n",
    "    i=1\n",
    "    for filename in os.listdir(path):\n",
    "            if filename.endswith('py') or filename.endswith('ipynb'):\n",
    "                print(filename)\n",
    "                os.rename(path+filename, path+str(i)+filename[2:]) # 반드시 경로 추가 # typeerror, filenotfounderror가 발생할 수 있다\n",
    "                i+=1            \n",
    "            \n",
    "if __name__=='__main__':\n",
    "    rename_file()"
   ]
  },
  {
   "cell_type": "code",
   "execution_count": null,
   "metadata": {},
   "outputs": [],
   "source": []
  }
 ],
 "metadata": {
  "kernelspec": {
   "display_name": "Python 3",
   "language": "python",
   "name": "python3"
  },
  "language_info": {
   "codemirror_mode": {
    "name": "ipython",
    "version": 3
   },
   "file_extension": ".py",
   "mimetype": "text/x-python",
   "name": "python",
   "nbconvert_exporter": "python",
   "pygments_lexer": "ipython3",
   "version": "3.7.3"
  }
 },
 "nbformat": 4,
 "nbformat_minor": 2
}
