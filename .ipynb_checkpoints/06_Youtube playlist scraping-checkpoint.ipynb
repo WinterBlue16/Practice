{
 "cells": [
  {
   "cell_type": "markdown",
   "metadata": {},
   "source": [
    "# Google youtube API를 활용한 Playlist 크롤링\n",
    "<br>\n",
    "\n",
    "- Youtube의 주된 사용 목적 중 하나는 음악 감상이다. 하지만 간만에 재생 목록을 업데이트하다 보면 종종 이전에 추가해두었던 곡들이 삭제되거나 한국 ip로 볼 수 없는 영상이 되어 있는 경우를 마주치게 된다. \n",
    "- 실제로 그런 경우를 몇 번이나 경험하였기에 그를 대비해 곡 목록을 크롤링하여 저장해두려 한다. \n",
    "<br>\n",
    "<br>\n",
    "\n",
    "## 01. BeautifulSoup을 이용한 Playlist 크롤링"
   ]
  },
  {
   "cell_type": "code",
   "execution_count": 5,
   "metadata": {},
   "outputs": [],
   "source": [
    "# 0. 라이브러리 불러오기\n",
    "from bs4 import BeautifulSoup as bs\n",
    "import urllib.request\n",
    "\n",
    "# 1. url 분석(플레이리스트 페이지)\n",
    "playlist_url = https://www.youtube.com/playlist?list=PLPKZ6FAxaaf8M_-QIZU5-V1Z-voU5oMOy\n",
    "sample_url = https://www.youtube.com/watch?v=ulg69dvoQRs& \n",
    "            list=PLPKZ6FAxaaf8M_-QIZU5-V1Z-voU5oMOy& # Playlist에 부여된 고유코드 \n",
    "            index=8& # Playlist 내 해당 곡의 index \n",
    "            t=0s "
   ]
  },
  {
   "cell_type": "code",
   "execution_count": 24,
   "metadata": {},
   "outputs": [
    {
     "name": "stdout",
     "output_type": "stream",
     "text": [
      "['Bad Boy', 'Red Velvet (레드벨벳) - Peek-A-Boo (피카부) Han | Rom | Eng', 'Red Velvet (레드벨벳) – Russian Roulette (러시안 룰렛) Lyrics (Han|Rom|Eng|Color Coded)', \"RED VELVET (레드벨벳) - 'RBB (REALLY BAD BOY)' LYRICS (Color Coded Eng/Rom/Han/가사)\", 'Red Velvet - Red Flavor (빨간 맛) (Color Coded Han|Rom|Eng Lyrics) | by Yankat', \"SEVENTEEN - 'LIE AGAIN' (거짓말을 해) Lyrics [Color Coded_Han_Rom_Eng]\", 'SEVENTEEN (세븐틴) - Getting Closer (숨이 차) (Color Coded Lyrics Eng/Rom/Han/가사)', 'AB6IX (에이비식스) - Breathe (Han|Rom|Eng) Color Coded Lyrics/한국어 가사', 'GiiANA - Bad Trip (Feat. B JYUN.)', 'plan8  -  fndu', 'June One - $urfer Boy', 'June One - Enemies', 'Cherry Coke - Salt', 'June One - Faded', 'Cherry Coke - 목욕해(Wash) [Music Video]', \"Cherry Coke - Don't Kill My Vibe 가사해석\"]\n"
     ]
    }
   ],
   "source": [
    "# 2. 가장 간단한 크롤링\n",
    "url = 'https://www.youtube.com/playlist?list=PLPKZ6FAxaaf8M_-QIZU5-V1Z-voU5oMOy'\n",
    "html = urllib.request.urlopen(url)\n",
    "response = html.read()\n",
    "soup = bs(response)\n",
    "# print(soup)\n",
    "res = soup.find_all('a', {'class':'pl-video-title-link'})\n",
    "title_list=[]\n",
    "for t in res:\n",
    "    title = t.get_text().replace('\\n', '').strip()\n",
    "    title_list.append(title)\n",
    "    \n",
    "print(title_list)"
   ]
  },
  {
   "cell_type": "code",
   "execution_count": 26,
   "metadata": {},
   "outputs": [
    {
     "name": "stdout",
     "output_type": "stream",
     "text": [
      "곡 제목 : Bad Boy\n",
      "곡 제목 : Red Velvet (레드벨벳) - Peek-A-Boo (피카부) Han | Rom | Eng\n",
      "곡 제목 : Red Velvet (레드벨벳) – Russian Roulette (러시안 룰렛) Lyrics (Han|Rom|Eng|Color Coded)\n",
      "곡 제목 : RED VELVET (레드벨벳) - 'RBB (REALLY BAD BOY)' LYRICS (Color Coded Eng/Rom/Han/가사)\n",
      "곡 제목 : Red Velvet - Red Flavor (빨간 맛) (Color Coded Han|Rom|Eng Lyrics) | by Yankat\n",
      "곡 제목 : SEVENTEEN - 'LIE AGAIN' (거짓말을 해) Lyrics [Color Coded_Han_Rom_Eng]\n",
      "곡 제목 : SEVENTEEN (세븐틴) - Getting Closer (숨이 차) (Color Coded Lyrics Eng/Rom/Han/가사)\n",
      "곡 제목 : AB6IX (에이비식스) - Breathe (Han|Rom|Eng) Color Coded Lyrics/한국어 가사\n",
      "곡 제목 : GiiANA - Bad Trip (Feat. B JYUN.)\n",
      "곡 제목 : plan8  -  fndu\n",
      "곡 제목 : June One - $urfer Boy\n",
      "곡 제목 : June One - Enemies\n",
      "곡 제목 : Cherry Coke - Salt\n",
      "곡 제목 : June One - Faded\n",
      "곡 제목 : Cherry Coke - 목욕해(Wash) [Music Video]\n",
      "곡 제목 : Cherry Coke - Don't Kill My Vibe 가사해석\n",
      "해당 플레이리스트의 곡 개수 : 16\n"
     ]
    }
   ],
   "source": [
    "# 3. 출력 리스트 확인\n",
    "for s in title_list:\n",
    "    print('곡 제목 :', s)\n",
    "    \n",
    "print('해당 플레이리스트의 곡 개수 :', len(title_list))"
   ]
  },
  {
   "cell_type": "code",
   "execution_count": null,
   "metadata": {},
   "outputs": [],
   "source": [
    "# 4. 200곡 이상의 긴 playlist 크롤링\n",
    "url = ''\n",
    "html = urllib.request.urlopen(url)\n",
    "response = html.read()\n",
    "soup = bs(response)\n",
    "# print(soup)\n",
    "res = soup.find_all('a', {'class':'pl-video-title-link'})\n",
    "title_list=[]\n",
    "for t in res:\n",
    "    title = t.get_text().replace('\\n', '').strip()\n",
    "    title_list.append(title)\n",
    "    \n",
    "print(title_list)"
   ]
  }
 ],
 "metadata": {
  "kernelspec": {
   "display_name": "Python 3",
   "language": "python",
   "name": "python3"
  },
  "language_info": {
   "codemirror_mode": {
    "name": "ipython",
    "version": 3
   },
   "file_extension": ".py",
   "mimetype": "text/x-python",
   "name": "python",
   "nbconvert_exporter": "python",
   "pygments_lexer": "ipython3",
   "version": "3.7.3"
  }
 },
 "nbformat": 4,
 "nbformat_minor": 2
}
