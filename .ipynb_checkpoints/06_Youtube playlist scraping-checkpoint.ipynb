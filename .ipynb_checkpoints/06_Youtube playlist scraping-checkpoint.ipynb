{
 "cells": [
  {
   "cell_type": "markdown",
   "metadata": {},
   "source": [
    "# Google youtube API를 활용한 Playlist 크롤링\n",
    "<br>\n",
    "\n",
    "- Youtube의 주된 사용 목적 중 하나는 음악 감상이다. 하지만 간만에 재생 목록을 업데이트하다 보면 종종 이전에 추가해두었던 곡들이 삭제되거나 한국 ip로 볼 수 없는 영상이 되어 있는 경우를 마주치게 된다. \n",
    "- 실제로 그런 경우를 몇 번이나 경험하였기에 그를 대비해 곡 목록을 크롤링하여 저장해두려 한다.   \n",
    "- Python 기초 실습에서 다뤘던 구글 api를 활용한다."
   ]
  },
  {
   "cell_type": "code",
   "execution_count": null,
   "metadata": {},
   "outputs": [],
   "source": [
    "from selenium import webdriver\n",
    "from selenium.webdriver.common.by import By\n",
    "from selenium.webdriver.common.keys import Keys\n",
    "from konlpy.tag import Twitter\n",
    "from collections import Counter\n",
    "\n",
    "from bs4 import BeautifulSoup as bs\n",
    "import time\n",
    "import requests\n",
    "import pandas as pd\n",
    "import nltk"
   ]
  },
  {
   "cell_type": "code",
   "execution_count": null,
   "metadata": {},
   "outputs": [],
   "source": []
  }
 ],
 "metadata": {
  "kernelspec": {
   "display_name": "Python 3",
   "language": "python",
   "name": "python3"
  },
  "language_info": {
   "codemirror_mode": {
    "name": "ipython",
    "version": 3
   },
   "file_extension": ".py",
   "mimetype": "text/x-python",
   "name": "python",
   "nbconvert_exporter": "python",
   "pygments_lexer": "ipython3",
   "version": "3.7.3"
  }
 },
 "nbformat": 4,
 "nbformat_minor": 2
}
