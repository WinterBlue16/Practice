{
 "cells": [
  {
   "cell_type": "markdown",
   "metadata": {},
   "source": [
    "# Google youtube API를 활용한 Playlist 크롤링\n",
    "<br>\n",
    "\n",
    "- Youtube의 주된 사용 목적 중 하나는 음악 감상이다. 하지만 간만에 재생 목록을 업데이트하다 보면 종종 이전에 추가해두었던 곡들이 삭제되거나 한국 ip로 볼 수 없는 영상이 되어 있는 경우를 마주치게 된다. \n",
    "- 실제로 그런 경우를 몇 번이나 경험하였기에 그를 대비해 곡 목록을 크롤링하여 저장해두려 한다. \n",
    "<br>\n",
    "<br>\n",
    "\n",
    "## 01. BeautifulSoup을 이용한 Playlist 크롤링"
   ]
  },
  {
   "cell_type": "code",
   "execution_count": 2,
   "metadata": {},
   "outputs": [],
   "source": [
    "# 0. 라이브러리 불러오기\n",
    "from bs4 import BeautifulSoup as bs\n",
    "import requests\n",
    "\n",
    "# 1. url 분석(플레이리스트 페이지)\n",
    "playlist_url = https://www.youtube.com/playlist?list=PLPKZ6FAxaaf8M_-QIZU5-V1Z-voU5oMOy\n",
    "sample_url = https://www.youtube.com/watch?v=ulg69dvoQRs& \n",
    "            list=PLPKZ6FAxaaf8M_-QIZU5-V1Z-voU5oMOy& # Playlist에 부여된 고유코드 \n",
    "            index=8& # Playlist 내 해당 곡의 index \n",
    "            t=0s "
   ]
  },
  {
   "cell_type": "code",
   "execution_count": null,
   "metadata": {},
   "outputs": [],
   "source": [
    "# 2. 가장 간단한 크롤링\n",
    "playlist_url = 'https://www.youtube.com/playlist?list=PLPKZ6FAxaaf8M_-QIZU5-V1Z-voU5oMOy'\n",
    "\n"
   ]
  }
 ],
 "metadata": {
  "kernelspec": {
   "display_name": "Python 3",
   "language": "python",
   "name": "python3"
  },
  "language_info": {
   "codemirror_mode": {
    "name": "ipython",
    "version": 3
   },
   "file_extension": ".py",
   "mimetype": "text/x-python",
   "name": "python",
   "nbconvert_exporter": "python",
   "pygments_lexer": "ipython3",
   "version": "3.7.3"
  }
 },
 "nbformat": 4,
 "nbformat_minor": 2
}
