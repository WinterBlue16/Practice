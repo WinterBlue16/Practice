{
 "cells": [
  {
   "cell_type": "code",
   "execution_count": null,
   "metadata": {},
   "outputs": [],
   "source": [
    "from bs4 import BeautifulSoup as bs\n",
    "import urllib.request\n",
    "\n",
    "cannot_crawl = []\n",
    "\n",
    "url = \n",
    "\n",
    "for i in range(37):\n",
    "    html = urllib.request.urlopen()\n",
    "    response = html.read()\n",
    "    soup = bs(response)\n",
    "    # print(soup)\n",
    "    res = soup.select_one('title').text()\n",
    "    print(res)\n",
    "    res2 = soup.find_all('a', {'class':'pl-video-title-link'})\n",
    "    title_list=[]\n",
    "    for t in res2:\n",
    "        title = t.get_text().replace('\\n', '').strip()\n",
    "        title_list.append(title)\n",
    "        \n",
    "    if len(title_list)== 0:\n",
    "        print(url)\n",
    "        cannot_crawl.append(url)\n",
    "        \n",
    "\n",
    "    else:\n",
    "        df = pd.DataFrame(data=title_list, columns=['곡 제목'])\n",
    "        df = df.applymap(lambda x: x.replace('\\u2013','').replace('\\u2013',''))\n",
    "        df = df.applymap(lambda x: x.replace('\\u982c','').replace('\\u982c','')) \n",
    "        df = df.applymap(lambda x: x.replace('\\u30fc','').replace('\\u30fc',''))\n",
    "        df = df.applymap(lambda x: x.replace('\\u2014','').replace('\\u2014',''))\n",
    "\n",
    "        df.to_csv('playlist'+str(i)+'.csv', encoding='cp949')\n",
    "        print(title_list)"
   ]
  }
 ],
 "metadata": {
  "kernelspec": {
   "display_name": "Python 3",
   "language": "python",
   "name": "python3"
  },
  "language_info": {
   "codemirror_mode": {
    "name": "ipython",
    "version": 3
   },
   "file_extension": ".py",
   "mimetype": "text/x-python",
   "name": "python",
   "nbconvert_exporter": "python",
   "pygments_lexer": "ipython3",
   "version": "3.7.3"
  }
 },
 "nbformat": 4,
 "nbformat_minor": 2
}
