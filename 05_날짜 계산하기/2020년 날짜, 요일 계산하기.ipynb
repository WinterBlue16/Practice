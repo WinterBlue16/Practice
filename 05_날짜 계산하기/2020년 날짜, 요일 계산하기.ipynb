{
 "cells": [
  {
   "cell_type": "markdown",
   "metadata": {},
   "source": [
    "# 0. ML로 간단한 모델 만들기\n",
    "- input한 숫자에서 +7을 해 돌려주는 모델을 만든다."
   ]
  },
  {
   "cell_type": "code",
   "execution_count": 1,
   "metadata": {},
   "outputs": [],
   "source": [
    "# 0. 라이브러리 불러오기\n",
    "import numpy as np\n",
    "import tensorflow as tf\n",
    "from sklearn.model_selection import train_test_split\n",
    "from tensorflow.keras.models import Sequential\n",
    "from tensorflow.keras.layers import Dense\n",
    "from datetime import datetime"
   ]
  },
  {
   "cell_type": "code",
   "execution_count": 11,
   "metadata": {},
   "outputs": [],
   "source": [
    "# 1. 데이터 만들기\n",
    "data1 = np.array(range(1, 1000))\n",
    "data2 = np.array(range(8, 1007))"
   ]
  },
  {
   "cell_type": "code",
   "execution_count": 12,
   "metadata": {
    "scrolled": true
   },
   "outputs": [
    {
     "name": "stdout",
     "output_type": "stream",
     "text": [
      "<class 'numpy.ndarray'>\n",
      "<class 'numpy.ndarray'>\n"
     ]
    }
   ],
   "source": [
    "# 2. 데이터 타입 확인\n",
    "print(type(data1))\n",
    "print(type(data2))"
   ]
  },
  {
   "cell_type": "code",
   "execution_count": 13,
   "metadata": {},
   "outputs": [],
   "source": [
    "# 3. reshape\n",
    "data1 = data1.reshape(len(data1), -1)\n",
    "data2 = data2.reshape(len(data2), -1)"
   ]
  },
  {
   "cell_type": "code",
   "execution_count": 14,
   "metadata": {},
   "outputs": [
    {
     "name": "stdout",
     "output_type": "stream",
     "text": [
      "(799, 1)\n",
      "(200, 1)\n"
     ]
    }
   ],
   "source": [
    "# 3. train, test 분리\n",
    "x_train, x_test, y_train, y_test = train_test_split(data1, data2, test_size=0.2, shuffle=False)\n",
    "print(x_train.shape)\n",
    "print(x_test.shape)"
   ]
  },
  {
   "cell_type": "code",
   "execution_count": 20,
   "metadata": {},
   "outputs": [
    {
     "name": "stdout",
     "output_type": "stream",
     "text": [
      "1.00\n"
     ]
    },
    {
     "name": "stderr",
     "output_type": "stream",
     "text": [
      "/home/ubuntu/anaconda3/envs/tensorflow2_p36/lib/python3.6/site-packages/sklearn/ensemble/forest.py:245: FutureWarning: The default value of n_estimators will change from 10 in version 0.20 to 100 in 0.22.\n",
      "  \"10 in version 0.20 to 100 in 0.22.\", FutureWarning)\n",
      "/home/ubuntu/anaconda3/envs/tensorflow2_p36/lib/python3.6/site-packages/ipykernel_launcher.py:6: DataConversionWarning: A column-vector y was passed when a 1d array was expected. Please change the shape of y to (n_samples,), for example using ravel().\n",
      "  \n"
     ]
    }
   ],
   "source": [
    "# 4. ML \n",
    "from sklearn.ensemble import RandomForestRegressor\n",
    "from sklearn.metrics import r2_score\n",
    "\n",
    "model = RandomForestRegressor()\n",
    "history = model.fit(data1, data2) \n",
    "\n",
    "y_pred = model.predict(x_test)\n",
    "print('%.2f' % r2_score(y_pred, y_test))"
   ]
  },
  {
   "cell_type": "code",
   "execution_count": 21,
   "metadata": {},
   "outputs": [
    {
     "name": "stdout",
     "output_type": "stream",
     "text": [
      "[18.]\n"
     ]
    }
   ],
   "source": [
    "test = np.array([11])\n",
    "test = test.reshape(len(test), -1)\n",
    "test_result = model.predict(test)\n",
    "print(test_result)"
   ]
  },
  {
   "cell_type": "code",
   "execution_count": 18,
   "metadata": {},
   "outputs": [],
   "source": [
    "# 딥러닝 시도 시 커널이 죽음"
   ]
  },
  {
   "cell_type": "markdown",
   "metadata": {},
   "source": [
    "# 1. 날짜를 입력했을 때 일주일 후의 날짜 출력하기"
   ]
  },
  {
   "cell_type": "code",
   "execution_count": 29,
   "metadata": {},
   "outputs": [
    {
     "name": "stdout",
     "output_type": "stream",
     "text": [
      "9.30\n",
      "10.7\n"
     ]
    }
   ],
   "source": [
    "# 0. 가장 간단하게\n",
    "month, date = map(int, input().split('.')) \n",
    "\n",
    "if date > 23:\n",
    "    date = (date+7)-30\n",
    "    month = month+1\n",
    "else:\n",
    "    date = date+7\n",
    "    \n",
    "print(month, date, sep='.')"
   ]
  },
  {
   "cell_type": "markdown",
   "metadata": {},
   "source": [
    "# 2. 입력한 날짜부터 n일 후의 날짜 계산해보기\n",
    "- 2020년 기준, 각 달의 일수는 다음과 같음\n",
    "    - 1, 3, 5, 7, 8, 10, 12 : 31일\n",
    "    - 4, 6, 9, 11: 30일\n",
    "    - 2 : 29일"
   ]
  },
  {
   "cell_type": "code",
   "execution_count": 86,
   "metadata": {},
   "outputs": [
    {
     "name": "stdout",
     "output_type": "stream",
     "text": [
      "오늘 날짜는: 4.11\n",
      "지금부터 며칠 후: 235\n",
      "12.2\n"
     ]
    }
   ],
   "source": [
    "month, date = map(int, input('오늘 날짜는: ').split('.'))\n",
    "days = int(input('지금부터 며칠 후: '))\n",
    "\n",
    "day_31 = [1, 3, 5, 7, 8, 10, 12] # 한 달이 31일\n",
    "day_30 = [4, 6, 9, 11] # 한 달이 30일\n",
    "\n",
    "new_date = days+date\n",
    "if new_date >= 31 : # 합친 일수가 31을 넘거나 같을 경우\n",
    "    n = new_date // 30\n",
    "    for i in range(n): # 30으로 나눠진 수만큼 반복문       \n",
    "        if month in day_31: # 입력한 월이 31 리스트에 들어갈 경우\n",
    "            if new_date > 31: # 31보다 클 때만 연산 시행\n",
    "                new_date = new_date-31\n",
    "                month += 1 \n",
    "            else:\n",
    "                break # 31 이하일 경우 멈춤\n",
    "        elif month in day_30: # 입력한 월이 30 리스트에 들어갈 경우\n",
    "            if new_date > 30:\n",
    "                new_date = new_date-30\n",
    "                month += 1\n",
    "            else:\n",
    "                break\n",
    "        else:\n",
    "            if new_date > 29: # 입력한 월이 2월일 경우\n",
    "                new_date = new_date-29\n",
    "                month += 1\n",
    "            else:\n",
    "                break            \n",
    "    \n",
    "    print(month, new_date, sep='.')\n",
    "    \n",
    "else:\n",
    "    print(month, new_date, sep='.')"
   ]
  },
  {
   "cell_type": "markdown",
   "metadata": {},
   "source": [
    "# 3. 입력한 날짜부터 n일 후의 날짜, 요일 알아내기(완성)\n",
    "- 입력은 날짜, 요일이다. \n",
    "- 입력 날짜의 요일을 이용하여 특정 날짜와 그 요일을 알아낸다."
   ]
  },
  {
   "cell_type": "code",
   "execution_count": 12,
   "metadata": {},
   "outputs": [
    {
     "name": "stdout",
     "output_type": "stream",
     "text": [
      "오늘 날짜는: 1.1.수\n",
      "지금부터 며칠 후: 58\n",
      "2.28.금\n"
     ]
    }
   ],
   "source": [
    "# 0. 입력\n",
    "month, date, day = input('오늘 날짜는: ').split('.')\n",
    "month = int(month)\n",
    "date = int(date)\n",
    "days = int(input('지금부터 며칠 후: '))\n",
    "\n",
    "# 1. 요일 구하기\n",
    "day_week = ['일', '월', '화', '수', '목', '금', '토']\n",
    "\n",
    "if day in day_week: \n",
    "    count = days % 7 # 7로 나눈 후 나머지를 구한다\n",
    "    idx = day_week.index(day) # 입력 날짜 요일의 인덱스 번호를 알아낸다\n",
    "    if count+idx > 6: # 나머지+해당 날짜 요일의 인덱스가 리스트 바깥으로 벗어날 경우\n",
    "        day = day_week[(count+idx)-7] # 7을 빼준다\n",
    "    else:\n",
    "        day = day_week[idx+count]\n",
    "\n",
    "# 2. 날짜 구하기\n",
    "day_31 = [1, 3, 5, 7, 8, 10, 12] # 한 달이 31일\n",
    "day_30 = [4, 6, 9, 11] # 한 달이 30일\n",
    "new_date = days+date\n",
    "\n",
    "if new_date >= 31 : # 합친 일수가 31을 넘거나 같을 경우\n",
    "    n = new_date // 30\n",
    "    for i in range(n): # 30으로 나눠진 수만큼 반복문       \n",
    "        if month in day_31: # 입력한 월이 31 리스트에 들어갈 경우\n",
    "            if new_date > 31: # 31보다 클 때만 연산 시행\n",
    "                new_date = new_date-31\n",
    "                month += 1 \n",
    "            else:\n",
    "                break # 31 이하일 경우 멈춤\n",
    "        elif month in day_30: # 입력한 월이 30 리스트에 들어갈 경우\n",
    "            if new_date > 30:\n",
    "                new_date = new_date-30\n",
    "                month += 1\n",
    "            else:\n",
    "                break\n",
    "        else:\n",
    "            if new_date > 29: # 입력한 월이 2월일 경우\n",
    "                new_date = new_date-29\n",
    "                month += 1\n",
    "            else:\n",
    "                break            \n",
    "    \n",
    "    print(month, new_date, day, sep='.')\n",
    "    \n",
    "else:\n",
    "    print(month, new_date, day, sep='.')"
   ]
  },
  {
   "cell_type": "code",
   "execution_count": null,
   "metadata": {},
   "outputs": [],
   "source": []
  }
 ],
 "metadata": {
  "kernelspec": {
   "display_name": "Python [conda env:tensorflow2_p36]",
   "language": "python",
   "name": "conda-env-tensorflow2_p36-py"
  },
  "language_info": {
   "codemirror_mode": {
    "name": "ipython",
    "version": 3
   },
   "file_extension": ".py",
   "mimetype": "text/x-python",
   "name": "python",
   "nbconvert_exporter": "python",
   "pygments_lexer": "ipython3",
   "version": "3.6.5"
  }
 },
 "nbformat": 4,
 "nbformat_minor": 2
}
